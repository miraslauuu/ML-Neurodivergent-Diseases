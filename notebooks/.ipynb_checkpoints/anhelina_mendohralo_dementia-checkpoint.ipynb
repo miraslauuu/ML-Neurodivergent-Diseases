{
 "cells": [
  {
   "cell_type": "markdown",
   "id": "712235cb-6b45-4c25-9eb0-52dacef21fb1",
   "metadata": {},
   "source": [
    "## Biblioteki"
   ]
  },
  {
   "cell_type": "code",
   "execution_count": 1,
   "id": "ef1491a7-fbfd-4104-ae7b-bb26e6b0bf88",
   "metadata": {},
   "outputs": [],
   "source": [
    "import pandas as pd\n",
    "import seaborn as sns\n",
    "import matplotlib. pyplot as plt \n",
    "from sklearn.impute import SimpleImputer\n",
    "from sklearn.model_selection import train_test_split, cross_val_score\n",
    "from sklearn.ensemble import RandomForestClassifier\n",
    "from sklearn.feature_selection import SelectFromModel\n",
    "from sklearn.metrics import (\n",
    "    classification_report,\n",
    "    accuracy_score, precision_score,\n",
    "    recall_score, f1_score,\n",
    "    roc_auc_score,\n",
    "    confusion_matrix\n",
    ")\n",
    "\n",
    "from imblearn.over_sampling import SMOTE"
   ]
  },
  {
   "cell_type": "markdown",
   "id": "9649aa77-cf7d-46ac-ac25-f2d379709662",
   "metadata": {},
   "source": [
    "## Opis problemu"
   ]
  },
  {
   "cell_type": "markdown",
   "id": "8fd8554e-d808-4bf3-8539-5618a286ce71",
   "metadata": {},
   "source": [
    "Celem jest zbudować model klasyfikacyjny, który na podstawie demograficznych danych pacjenta (wiek, płeć, poziom wykształcenia itp.) oraz wyników neuroobrazowych i testów poznawczych (MMSE, eTIV, nWBV, ASF) przewidzi przynależność osoby do jednej z trzech grup: zdrowych, z łagodnymi zaburzeniami poznawczymi lub z demencją. Ze względu na nierównomierny rozkład klas najpierw wyrównujemy liczebność przy użyciu SMOTE, a następnie porównujemy skuteczność Random Foresta przed i po selekcji cech."
   ]
  },
  {
   "cell_type": "markdown",
   "id": "ab090e95-5409-45b4-ac99-7814c2be7ebb",
   "metadata": {},
   "source": [
    "# Dementia Prediction Dataset"
   ]
  },
  {
   "cell_type": "markdown",
   "id": "1ab71bd8-3b34-475c-b74d-9c8393db315b",
   "metadata": {},
   "source": [
    "Zestaw ten składa się z podłużnej kolekcji 150 uczestników w wieku od 60 do 96 lat. Każdy badany został zeskanowany podczas dwóch lub więcej wizyt, w odstępie co najmniej jednego roku, co dało łącznie 373 sesje obrazowania. Dla każdego badanego uwzględniono 3 lub 4 indywidualne skany MRI ważone T1 uzyskane w pojedynczych sesjach skanowania. Wszyscy badani są praworęczni i obejmują zarówno mężczyzn, jak i kobiety. 72 z badanych zostało scharakteryzowanych jako osoby bez upośledzenia umysłowego w trakcie całego badania. 64 z badanych zostało scharakteryzowanych jako osoby z otępieniem w czasie ich pierwszych wizyt i pozostało takimi w kolejnych skanach, w tym 51 osób z łagodną do umiarkowanej chorobą Alzheimera. Kolejnych 14 badanych zostało scharakteryzowanych jako osoby bez otępienia w czasie ich pierwszej wizyty, a następnie zostali scharakteryzowani jako osoby z otępieniem podczas późniejszej wizyty."
   ]
  },
  {
   "cell_type": "markdown",
   "id": "de11ad69-d656-40d0-b5d7-b190b22e9906",
   "metadata": {},
   "source": [
    "| Atrybut           | Opis                                                                                                                                  |\n",
    "|-------------------|---------------------------------------------------------------------------------------------------------------------------------------|\n",
    "| **Link**          | [https://data.mendeley.com/datasets/tsy6rbc5d4/1](https://data.mendeley.com/datasets/tsy6rbc5d4/1)                                   |\n",
    "| **Liczba próbek** | 373                                                                                                                                  |\n",
    "| **Cechy**         | `Subject ID`, `MRI ID`, `Visit`, `MR Delay`, `M/F`, `Hand`, `Age`, `EDUC`, `SES`, `MMSE`, `CDR`, `eTIV`, `nWBV`, `ASF`               |\n",
    "| **Rodzaj etykiet**| Klasyfikacja kategoryczna (3 klasy):<br>• Nondemented<br>• Demented<br>• Converted                                                   |\n",
    "| **Licencja**      | CC BY-NC 3.0                                                                                                                          |\n"
   ]
  },
  {
   "cell_type": "markdown",
   "id": "974c7d78-a09a-4123-b880-5add0a180900",
   "metadata": {},
   "source": [
    "## Pobieranie danych"
   ]
  },
  {
   "cell_type": "code",
   "execution_count": 2,
   "id": "9bd9f01d-f226-42b1-8e35-7779e894374a",
   "metadata": {},
   "outputs": [
    {
     "data": {
      "text/html": [
       "<div>\n",
       "<style scoped>\n",
       "    .dataframe tbody tr th:only-of-type {\n",
       "        vertical-align: middle;\n",
       "    }\n",
       "\n",
       "    .dataframe tbody tr th {\n",
       "        vertical-align: top;\n",
       "    }\n",
       "\n",
       "    .dataframe thead th {\n",
       "        text-align: right;\n",
       "    }\n",
       "</style>\n",
       "<table border=\"1\" class=\"dataframe\">\n",
       "  <thead>\n",
       "    <tr style=\"text-align: right;\">\n",
       "      <th></th>\n",
       "      <th>Subject ID</th>\n",
       "      <th>MRI ID</th>\n",
       "      <th>Group</th>\n",
       "      <th>Visit</th>\n",
       "      <th>MR Delay</th>\n",
       "      <th>M/F</th>\n",
       "      <th>Hand</th>\n",
       "      <th>Age</th>\n",
       "      <th>EDUC</th>\n",
       "      <th>SES</th>\n",
       "      <th>MMSE</th>\n",
       "      <th>CDR</th>\n",
       "      <th>eTIV</th>\n",
       "      <th>nWBV</th>\n",
       "      <th>ASF</th>\n",
       "    </tr>\n",
       "  </thead>\n",
       "  <tbody>\n",
       "    <tr>\n",
       "      <th>0</th>\n",
       "      <td>OAS2_0001</td>\n",
       "      <td>OAS2_0001_MR1</td>\n",
       "      <td>Nondemented</td>\n",
       "      <td>1</td>\n",
       "      <td>0</td>\n",
       "      <td>M</td>\n",
       "      <td>R</td>\n",
       "      <td>87</td>\n",
       "      <td>14</td>\n",
       "      <td>2.0</td>\n",
       "      <td>27.0</td>\n",
       "      <td>0.0</td>\n",
       "      <td>1987</td>\n",
       "      <td>0.696</td>\n",
       "      <td>0.883</td>\n",
       "    </tr>\n",
       "    <tr>\n",
       "      <th>1</th>\n",
       "      <td>OAS2_0001</td>\n",
       "      <td>OAS2_0001_MR2</td>\n",
       "      <td>Nondemented</td>\n",
       "      <td>2</td>\n",
       "      <td>457</td>\n",
       "      <td>M</td>\n",
       "      <td>R</td>\n",
       "      <td>88</td>\n",
       "      <td>14</td>\n",
       "      <td>2.0</td>\n",
       "      <td>30.0</td>\n",
       "      <td>0.0</td>\n",
       "      <td>2004</td>\n",
       "      <td>0.681</td>\n",
       "      <td>0.876</td>\n",
       "    </tr>\n",
       "    <tr>\n",
       "      <th>2</th>\n",
       "      <td>OAS2_0002</td>\n",
       "      <td>OAS2_0002_MR1</td>\n",
       "      <td>Demented</td>\n",
       "      <td>1</td>\n",
       "      <td>0</td>\n",
       "      <td>M</td>\n",
       "      <td>R</td>\n",
       "      <td>75</td>\n",
       "      <td>12</td>\n",
       "      <td>NaN</td>\n",
       "      <td>23.0</td>\n",
       "      <td>0.5</td>\n",
       "      <td>1678</td>\n",
       "      <td>0.736</td>\n",
       "      <td>1.046</td>\n",
       "    </tr>\n",
       "    <tr>\n",
       "      <th>3</th>\n",
       "      <td>OAS2_0002</td>\n",
       "      <td>OAS2_0002_MR2</td>\n",
       "      <td>Demented</td>\n",
       "      <td>2</td>\n",
       "      <td>560</td>\n",
       "      <td>M</td>\n",
       "      <td>R</td>\n",
       "      <td>76</td>\n",
       "      <td>12</td>\n",
       "      <td>NaN</td>\n",
       "      <td>28.0</td>\n",
       "      <td>0.5</td>\n",
       "      <td>1738</td>\n",
       "      <td>0.713</td>\n",
       "      <td>1.010</td>\n",
       "    </tr>\n",
       "    <tr>\n",
       "      <th>4</th>\n",
       "      <td>OAS2_0002</td>\n",
       "      <td>OAS2_0002_MR3</td>\n",
       "      <td>Demented</td>\n",
       "      <td>3</td>\n",
       "      <td>1895</td>\n",
       "      <td>M</td>\n",
       "      <td>R</td>\n",
       "      <td>80</td>\n",
       "      <td>12</td>\n",
       "      <td>NaN</td>\n",
       "      <td>22.0</td>\n",
       "      <td>0.5</td>\n",
       "      <td>1698</td>\n",
       "      <td>0.701</td>\n",
       "      <td>1.034</td>\n",
       "    </tr>\n",
       "  </tbody>\n",
       "</table>\n",
       "</div>"
      ],
      "text/plain": [
       "  Subject ID         MRI ID        Group  Visit  MR Delay M/F Hand  Age  EDUC  \\\n",
       "0  OAS2_0001  OAS2_0001_MR1  Nondemented      1         0   M    R   87    14   \n",
       "1  OAS2_0001  OAS2_0001_MR2  Nondemented      2       457   M    R   88    14   \n",
       "2  OAS2_0002  OAS2_0002_MR1     Demented      1         0   M    R   75    12   \n",
       "3  OAS2_0002  OAS2_0002_MR2     Demented      2       560   M    R   76    12   \n",
       "4  OAS2_0002  OAS2_0002_MR3     Demented      3      1895   M    R   80    12   \n",
       "\n",
       "   SES  MMSE  CDR  eTIV   nWBV    ASF  \n",
       "0  2.0  27.0  0.0  1987  0.696  0.883  \n",
       "1  2.0  30.0  0.0  2004  0.681  0.876  \n",
       "2  NaN  23.0  0.5  1678  0.736  1.046  \n",
       "3  NaN  28.0  0.5  1738  0.713  1.010  \n",
       "4  NaN  22.0  0.5  1698  0.701  1.034  "
      ]
     },
     "execution_count": 2,
     "metadata": {},
     "output_type": "execute_result"
    }
   ],
   "source": [
    "df = pd.read_csv('../data/Dementia/dementia_dataset.csv')\n",
    "df.head()"
   ]
  },
  {
   "cell_type": "markdown",
   "id": "5a61b164-da22-4c00-8635-e5840c968714",
   "metadata": {},
   "source": [
    "## Podstawowe informacje o zbiorze danych"
   ]
  },
  {
   "cell_type": "code",
   "execution_count": 4,
   "id": "709e505a-dc3a-4a56-a2aa-c4127e4122d0",
   "metadata": {},
   "outputs": [
    {
     "name": "stdout",
     "output_type": "stream",
     "text": [
      "<class 'pandas.core.frame.DataFrame'>\n",
      "RangeIndex: 373 entries, 0 to 372\n",
      "Data columns (total 15 columns):\n",
      " #   Column      Non-Null Count  Dtype  \n",
      "---  ------      --------------  -----  \n",
      " 0   Subject ID  373 non-null    object \n",
      " 1   MRI ID      373 non-null    object \n",
      " 2   Group       373 non-null    object \n",
      " 3   Visit       373 non-null    int64  \n",
      " 4   MR Delay    373 non-null    int64  \n",
      " 5   M/F         373 non-null    object \n",
      " 6   Hand        373 non-null    object \n",
      " 7   Age         373 non-null    int64  \n",
      " 8   EDUC        373 non-null    int64  \n",
      " 9   SES         354 non-null    float64\n",
      " 10  MMSE        371 non-null    float64\n",
      " 11  CDR         373 non-null    float64\n",
      " 12  eTIV        373 non-null    int64  \n",
      " 13  nWBV        373 non-null    float64\n",
      " 14  ASF         373 non-null    float64\n",
      "dtypes: float64(5), int64(5), object(5)\n",
      "memory usage: 43.8+ KB\n"
     ]
    },
    {
     "data": {
      "text/plain": [
       "Subject ID     0\n",
       "MRI ID         0\n",
       "Group          0\n",
       "Visit          0\n",
       "MR Delay       0\n",
       "M/F            0\n",
       "Hand           0\n",
       "Age            0\n",
       "EDUC           0\n",
       "SES           19\n",
       "MMSE           2\n",
       "CDR            0\n",
       "eTIV           0\n",
       "nWBV           0\n",
       "ASF            0\n",
       "dtype: int64"
      ]
     },
     "execution_count": 4,
     "metadata": {},
     "output_type": "execute_result"
    }
   ],
   "source": [
    "df.info()\n",
    "df.describe()\n",
    "df.isnull().sum()"
   ]
  },
  {
   "cell_type": "markdown",
   "id": "39b64a5c-c2e4-4ffb-a8d1-493b3bb50d76",
   "metadata": {},
   "source": [
    "| Atrybut    | Opis                                                                                            |\n",
    "| ---------- | ----------------------------------------------------------------------------------------------- |\n",
    "| Subject ID | Unikalny identyfikator pacjenta                                                                 |\n",
    "| MRI ID     | Unikalny identyfikator badania MRI                                                              |\n",
    "| Group      | Klasa docelowa: Nondemented (zdrowi), Converted (przejście MCI → demencja), Demented (demencja) |\n",
    "| Visit      | Numer wizyty klinicznej (kolejność pojawiania się wizyt)                                        |\n",
    "| MR Delay   | Opóźnienie między dniem badania MRI a oceną kliniczną (dni)                                     |\n",
    "| M/F        | Płeć pacjenta (M = mężczyzna, F = kobieta)                                                      |\n",
    "| Hand       | Dominująca ręka (Left lub Right)                                                                |\n",
    "| Age        | Wiek pacjenta (lata)                                                                            |\n",
    "| EDUC       | Liczba lat wykształcenia                                                                        |\n",
    "| SES        | Status społeczno-ekonomiczny (skala 1–5)                                                        |\n",
    "| MMSE       | Wynik testu Mini-Mental State Examination (0–30 pkt)                                            |\n",
    "| CDR        | Clinical Dementia Rating (0 = brak demencji, 0.5 = MCI, ≥1 = demencja)                          |\n",
    "| eTIV       | Szacowana całkowita objętość czaszki (Estimated Total Intracranial Volume, ml)                  |\n",
    "| nWBV       | Znormalizowana objętość mózgu (Normalized Whole Brain Volume, % objętości czaszki)              |\n",
    "| ASF        | Atlas Scaling Factor (współczynnik skalowania atlasu mózgu)                                     |\n"
   ]
  },
  {
   "cell_type": "markdown",
   "id": "1ede3e3e-920f-4bbe-bc92-57d0bc6eb108",
   "metadata": {},
   "source": [
    "## Analiza zbalansowaności zbioru"
   ]
  },
  {
   "cell_type": "markdown",
   "id": "2fdd0483-fa8e-43ba-b69e-e013b88fb7ee",
   "metadata": {},
   "source": [
    "Zbiór cech wykazuje znaczną nierównowagę klas – grupa „Converted” stanowi tylko ok. 10% wszystkich próbek, podczas gdy „Nondemented” i „Demented” to odpowiednio około 60% i 30%. Taki dysbalans może spowodować, że model będzie faworyzował klasy dominujące, ignorując rzadkie przypadki przejścia do demencji.\n",
    "\n",
    "Dlatego zastosowano SMOTE, który syntetycznie generuje nowe próbki klasy mniejszościowej na podstawie sąsiedztwa w przestrzeni cech – dzięki temu zwiększamy reprezentację „Converted” bez utraty informacji ani istotnego poszerzania przestrzeni cech tak jak przy prostym duplikowaniu, a jednocześnie uniknęto redukcji danych charakterystycznych dla klasy większościowej."
   ]
  },
  {
   "cell_type": "code",
   "execution_count": 13,
   "id": "133c31be-788c-4fe9-9afa-391bdef7d501",
   "metadata": {},
   "outputs": [
    {
     "name": "stdout",
     "output_type": "stream",
     "text": [
      "Nondemented    190\n",
      "Demented       144\n",
      "Converted       37\n",
      "Name: Group, dtype: int64\n",
      "\n",
      "Procentowy rozkład klas:\n",
      "Nondemented    51.21\n",
      "Demented       38.81\n",
      "Converted       9.97\n",
      "Name: Group, dtype: float64\n"
     ]
    },
    {
     "data": {
      "image/png": "[encoded data removed]",
      "text/plain": [
       "<Figure size 640x480 with 1 Axes>"
      ]
     },
     "metadata": {},
     "output_type": "display_data"
    }
   ],
   "source": [
    "class_counts = df['Group'].value_counts()\n",
    "print(class_counts)\n",
    "\n",
    "class_percentages = df['Group'].value_counts(normalize=True) * 100\n",
    "print(\"\\nProcentowy rozkład klas:\")\n",
    "print(class_percentages.round(2))\n",
    "\n",
    "sns.countplot(data=df, x='Group')\n",
    "plt.title(\"Rozkład klas w zbiorze Dementia Dataset\")\n",
    "plt.xlabel(\"Group (Converted, Demented, Nondemented)\")\n",
    "plt.ylabel(\"Liczba próbek\")\n",
    "plt.show()"
   ]
  },
  {
   "cell_type": "markdown",
   "id": "ead1eb07-eea3-44db-97ac-51f536dde6ee",
   "metadata": {},
   "source": [
    "## Czyszczenie danych i balansowanie"
   ]
  },
  {
   "cell_type": "markdown",
   "id": "60b1273a-a93b-41b2-979f-ccb48962e1d5",
   "metadata": {},
   "source": [
    "Wybrano imputację medianą dla zmiennej SES, ponieważ braki stanowią niewielką część danych (\\~5%) i mediana jest odporna na wartości odstające, dzięki czemu zachowujemy naturalny rozkład tej cechy. Dwa brakujące wyniki MMSE (<1% obserwacji) usunięto zamiast imputować, by uniknąć ryzyka wprowadzenia dodatkowego biasu przy tak małej liczbie braków."
   ]
  },
  {
   "cell_type": "code",
   "execution_count": 6,
   "id": "6a96b566-049c-4649-8f94-d2a044aada0b",
   "metadata": {},
   "outputs": [],
   "source": [
    "imp = SimpleImputer(strategy='median')\n",
    "df['SES'] = imp.fit_transform(df[['SES']])\n",
    "df = df.dropna(subset=['MMSE']) \n",
    "\n",
    "df = pd.get_dummies(df, columns=['M/F','Hand'], drop_first=True)\n",
    "\n",
    "X = df.drop(['Subject ID','MRI ID','Group'], axis=1)\n",
    "y = df['Group']"
   ]
  },
  {
   "cell_type": "code",
   "execution_count": 7,
   "id": "36ef74f6-fa32-4695-9f5d-528682a09adb",
   "metadata": {},
   "outputs": [],
   "source": [
    "sm = SMOTE(random_state=42)\n",
    "X_sm, y_sm = sm.fit_resample(X, y)\n",
    "\n",
    "X_train, X_test, y_train, y_test = train_test_split(\n",
    "    X_sm, y_sm,\n",
    "    test_size=0.2,\n",
    "    stratify=y_sm,\n",
    "    random_state=42\n",
    ")"
   ]
  },
  {
   "cell_type": "markdown",
   "id": "d9172444-985d-4c3f-b093-608e0dbb9a42",
   "metadata": {},
   "source": [
    "## Wybór modelu"
   ]
  },
  {
   "cell_type": "markdown",
   "id": "0112f910-a10b-47e7-96ce-0834ba06b1b2",
   "metadata": {},
   "source": [
    "Został wybrany Random Forest ponieważ:\n",
    "\n",
    "1. **Odporność na różne typy danych i brak konieczności skalowania** – drzewa wchodzące w skład lasu mogą naturalnie obsłużyć zarówno cechy ciągłe, jak i kategoryczne oraz tolerują różnice w skali bez dodatkowej normalizacji.\n",
    "2. **Wbudowana regularyzacja i odporność na przeuczenie** dzięki agregacji wielu drzew (bagging), co jest kluczowe przy ograniczonej liczbie próbek.\n",
    "3. **Łatwa interpretowalność** – dostęp do `feature_importances_` pozwala szybko zidentyfikować najważniejsze zmienne, a parametr `class_weight='balanced'` ułatwia pracę z danymi zbalansowanymi przez SMOTE.\n"
   ]
  },
  {
   "cell_type": "markdown",
   "id": "3e3d26da-7730-4dc8-8a24-ae25150ac3d6",
   "metadata": {},
   "source": [
    "## Random Forest (pełny zbiór cech)"
   ]
  },
  {
   "cell_type": "code",
   "execution_count": 8,
   "id": "2074caae-dba3-4233-8eb1-9910fea94fd3",
   "metadata": {},
   "outputs": [
    {
     "name": "stdout",
     "output_type": "stream",
     "text": [
      "RF na wszystkich cechach – średnie F1-macro CV: 0.936\n",
      "\n",
      "--- RF_ALL: classification report ---\n",
      "              precision    recall  f1-score   support\n",
      "\n",
      "   Converted       0.97      0.84      0.90        38\n",
      "    Demented       0.88      0.97      0.93        38\n",
      " Nondemented       0.95      0.97      0.96        38\n",
      "\n",
      "    accuracy                           0.93       114\n",
      "   macro avg       0.93      0.93      0.93       114\n",
      "weighted avg       0.93      0.93      0.93       114\n",
      "\n",
      "Accuracy : 0.93\n",
      "Precision: 0.93\n",
      "Recall   : 0.93\n",
      "F1-score : 0.93\n",
      "AUC-ROC  : 0.99\n"
     ]
    }
   ],
   "source": [
    "rf_all = RandomForestClassifier(\n",
    "    n_estimators=200,\n",
    "    class_weight='balanced',\n",
    "    random_state=42\n",
    ")\n",
    "rf_all.fit(X_train, y_train)\n",
    "\n",
    "cv_all = cross_val_score(rf_all, X_sm, y_sm, cv=5, scoring='f1_macro')\n",
    "print(\"RF na wszystkich cechach – średnie F1-macro CV: {:.3f}\".format(cv_all.mean()))\n",
    "\n",
    "y_pred_all = rf_all.predict(X_test)\n",
    "print(\"\\n--- RF_ALL: classification report ---\")\n",
    "print(classification_report(y_test, y_pred_all))\n",
    "\n",
    "acc_all  = accuracy_score(y_test, y_pred_all)\n",
    "prec_all = precision_score(y_test, y_pred_all, average='macro')\n",
    "rec_all  = recall_score(y_test, y_pred_all, average='macro')\n",
    "f1_all   = f1_score(y_test, y_pred_all, average='macro')\n",
    "auc_all  = roc_auc_score(\n",
    "    y_test,\n",
    "    rf_all.predict_proba(X_test),\n",
    "    multi_class='ovr',\n",
    "    average='macro'\n",
    ")\n",
    "\n",
    "print(\"Accuracy : {:.2f}\".format(acc_all))\n",
    "print(\"Precision: {:.2f}\".format(prec_all))\n",
    "print(\"Recall   : {:.2f}\".format(rec_all))\n",
    "print(\"F1-score : {:.2f}\".format(f1_all))\n",
    "print(\"AUC-ROC  : {:.2f}\".format(auc_all))"
   ]
  },
  {
   "cell_type": "code",
   "execution_count": 12,
   "id": "2cf61192-a9c4-441a-80d1-2bbfa3de378e",
   "metadata": {},
   "outputs": [
    {
     "data": {
      "image/png": "[encoded data removed]",
      "text/plain": [
       "<Figure size 640x480 with 2 Axes>"
      ]
     },
     "metadata": {},
     "output_type": "display_data"
    }
   ],
   "source": [
    "cm = confusion_matrix(y_test, y_pred_all, labels=rf_all.classes_)\n",
    "fig, ax = plt.subplots()\n",
    "cax = ax.matshow(cm)\n",
    "plt.title('Confusion Matrix – RF_ALL')\n",
    "plt.xlabel('Predicted')\n",
    "plt.ylabel('True')\n",
    "fig.colorbar(cax)\n",
    "classes = rf_all.classes_\n",
    "ticks = range(len(classes))\n",
    "plt.xticks(ticks, classes)\n",
    "plt.yticks(ticks, classes)\n",
    "for i in ticks:\n",
    "    for j in ticks:\n",
    "        ax.text(j, i, cm[i, j], ha='center', va='center')\n",
    "plt.show()"
   ]
  },
  {
   "cell_type": "markdown",
   "id": "4ce367e2-2650-486a-97f4-7fc1917b6c1c",
   "metadata": {},
   "source": [
    "Model osiąga bardzo wysoką skuteczność zarówno w walidacji krzyżowej (średnie F1-macro CV ≈ 0.936), jak i na zbiorze testowym (accuracy = 0.93, macro-F1 = 0.93, AUC-ROC = 0.99).\n",
    "\n",
    "**Spojrzenie na poszczególne klasy:**\n",
    "\n",
    "* **Converted**: spośród 38 prawdziwie „Converted” aż 32 zostały poprawnie wykryte (recall = 0.84), a tylko 6 trafiło omyłkowo do innych grup (4 do „Demented”, 2 do „Nondemented”). Dzięki temu precision tej klasy jest bardzo wysokie (0.97) – model rzadko fałszywie etykietuje zdrowych lub dementujących jako konwertujących.\n",
    "* **Demented**: 37/38 poprawnych (recall = 0.97) i 1 fałszywe „Converted” (precision = 0.88) – świetna separacja tej grupy.\n",
    "* **Nondemented**: 37/38 poprawnych (recall = 0.97) oraz tylko 1 fałszywe „Demented” – precision = 0.95, również bardzo mocny wynik.\n",
    "\n",
    "**Główne obserwacje:**\n",
    "\n",
    "* Model nie faworyzuje klas większościowych – recall i precision są zbliżone we wszystkich grupach, co świadczy o skutecznym balansowaniu SMOTE i użyciu `class_weight='balanced'`.\n",
    "* Najtrudniejsza do wykrycia okazała się grupa „Converted” (najniższy recall), co jest typowe przy średnich rozmiarach i nieco zachodzących na siebie sygnałach MCI vs wczesnej demencji.\n",
    "* Bardzo wysoki AUC-ROC (0.99) potwierdza, że model dobrze odróżnia wszystkie pary klas, a ewentualne pomyłki wynikają raczej z niewielkich różnic w cechach między „Converted” a pozostałymi."
   ]
  },
  {
   "cell_type": "markdown",
   "id": "6f74033c-ff37-4d40-9b32-ed627b57faf8",
   "metadata": {},
   "source": [
    "## Selekcja cech"
   ]
  },
  {
   "cell_type": "markdown",
   "id": "5bd44c4c-5939-4493-83cf-a5de53f9da12",
   "metadata": {},
   "source": [
    "Selekcja cech wyodrębniła cztery kluczowe zmienne: MR Delay, SES, MMSE i CDR.\n",
    "MR Delay odzwierciedla odstęp czasowy między badaniem obrazowym a oceną kliniczną, SES mierzy status społeczno-ekonomiczny, MMSE to globalny wskaźnik sprawności poznawczej, a CDR określa stopień zaawansowania demencji.\n"
   ]
  },
  {
   "cell_type": "code",
   "execution_count": 14,
   "id": "f7f861e3-652c-4618-b7da-47260588b28e",
   "metadata": {},
   "outputs": [
    {
     "name": "stdout",
     "output_type": "stream",
     "text": [
      "\n",
      "Wybrane cechy (4):\n",
      "['MR Delay', 'SES', 'MMSE', 'CDR']\n"
     ]
    },
    {
     "name": "stderr",
     "output_type": "stream",
     "text": [
      "/opt/anaconda3/envs/python310/lib/python3.10/site-packages/sklearn/utils/validation.py:2732: UserWarning: X has feature names, but SelectFromModel was fitted without feature names\n",
      "  warnings.warn(\n",
      "/opt/anaconda3/envs/python310/lib/python3.10/site-packages/sklearn/utils/validation.py:2732: UserWarning: X has feature names, but SelectFromModel was fitted without feature names\n",
      "  warnings.warn(\n"
     ]
    }
   ],
   "source": [
    "sel = SelectFromModel(rf_all, threshold='mean', prefit=True)\n",
    "X_train_sel = sel.transform(X_train)\n",
    "X_test_sel  = sel.transform(X_test)\n",
    "\n",
    "selected_features = X.columns[sel.get_support()]\n",
    "print(\"\\nWybrane cechy ({}):\".format(len(selected_features)))\n",
    "print(selected_features.tolist())"
   ]
  },
  {
   "cell_type": "markdown",
   "id": "92cdb891-66a0-41be-8506-6b66d2fb6a5f",
   "metadata": {},
   "source": [
    "## Random Forest (wybrane cechy)"
   ]
  },
  {
   "cell_type": "code",
   "execution_count": 15,
   "id": "dd9ab11b-32da-4250-9d01-09951b81b959",
   "metadata": {},
   "outputs": [
    {
     "name": "stderr",
     "output_type": "stream",
     "text": [
      "/opt/anaconda3/envs/python310/lib/python3.10/site-packages/sklearn/utils/validation.py:2732: UserWarning: X has feature names, but SelectFromModel was fitted without feature names\n",
      "  warnings.warn(\n"
     ]
    },
    {
     "name": "stdout",
     "output_type": "stream",
     "text": [
      "\n",
      "RF na wybranych cechach – średnie F1-macro CV: 0.910\n",
      "\n",
      "--- RF_SEL: classification report ---\n",
      "              precision    recall  f1-score   support\n",
      "\n",
      "   Converted       0.89      0.82      0.85        38\n",
      "    Demented       0.87      0.89      0.88        38\n",
      " Nondemented       0.93      0.97      0.95        38\n",
      "\n",
      "    accuracy                           0.89       114\n",
      "   macro avg       0.89      0.89      0.89       114\n",
      "weighted avg       0.89      0.89      0.89       114\n",
      "\n",
      "Accuracy : 0.89\n",
      "Precision: 0.89\n",
      "Recall   : 0.89\n",
      "F1-score : 0.89\n",
      "AUC-ROC  : 0.97\n"
     ]
    }
   ],
   "source": [
    "rf_sel = RandomForestClassifier(\n",
    "    n_estimators=200,\n",
    "    class_weight='balanced',\n",
    "    random_state=42\n",
    ")\n",
    "rf_sel.fit(X_train_sel, y_train)\n",
    "\n",
    "X_sm_sel = sel.transform(X_sm)\n",
    "cv_sel = cross_val_score(rf_sel, X_sm_sel, y_sm, cv=5, scoring='f1_macro')\n",
    "print(\"\\nRF na wybranych cechach – średnie F1-macro CV: {:.3f}\".format(cv_sel.mean()))\n",
    "\n",
    "y_pred_sel = rf_sel.predict(X_test_sel)\n",
    "print(\"\\n--- RF_SEL: classification report ---\")\n",
    "print(classification_report(y_test, y_pred_sel))\n",
    "\n",
    "acc_sel  = accuracy_score(y_test, y_pred_sel)\n",
    "prec_sel = precision_score(y_test, y_pred_sel, average='macro')\n",
    "rec_sel  = recall_score(y_test, y_pred_sel, average='macro')\n",
    "f1_sel   = f1_score(y_test, y_pred_sel, average='macro')\n",
    "auc_sel  = roc_auc_score(\n",
    "    y_test,\n",
    "    rf_sel.predict_proba(X_test_sel),\n",
    "    multi_class='ovr',\n",
    "    average='macro'\n",
    ")\n",
    "\n",
    "print(\"Accuracy : {:.2f}\".format(acc_sel))\n",
    "print(\"Precision: {:.2f}\".format(prec_sel))\n",
    "print(\"Recall   : {:.2f}\".format(rec_sel))\n",
    "print(\"F1-score : {:.2f}\".format(f1_sel))\n",
    "print(\"AUC-ROC  : {:.2f}\".format(auc_sel))\n"
   ]
  },
  {
   "cell_type": "code",
   "execution_count": 16,
   "id": "f0c894c6-5fc6-449d-851b-d7d59c39330c",
   "metadata": {},
   "outputs": [
    {
     "data": {
      "image/png": "[encoded data removed]",
      "text/plain": [
       "<Figure size 640x480 with 2 Axes>"
      ]
     },
     "metadata": {},
     "output_type": "display_data"
    }
   ],
   "source": [
    "cm = confusion_matrix(y_test, y_pred_sel, labels=rf_sel.classes_)\n",
    "fig, ax = plt.subplots()\n",
    "cax = ax.matshow(cm)\n",
    "plt.title('Confusion Matrix – RF_SEL')\n",
    "plt.xlabel('Predicted')\n",
    "plt.ylabel('True')\n",
    "fig.colorbar(cax)\n",
    "classes = rf_sel.classes_\n",
    "ticks = range(len(classes))\n",
    "plt.xticks(ticks, classes)\n",
    "plt.yticks(ticks, classes)\n",
    "for i in ticks:\n",
    "    for j in ticks:\n",
    "        ax.text(j, i, cm[i, j], ha='center', va='center')\n",
    "plt.show()"
   ]
  },
  {
   "cell_type": "markdown",
   "id": "02e8d4a2-bb42-45a1-8778-7b2c95e15c9f",
   "metadata": {},
   "source": [
    "W modelu po selekcji cech widzimy niewielki spadek skuteczności w porównaniu do pełnego zestawu:\n",
    "\n",
    "* **Średnie F1-macro CV** spadło z 0.936 do **0.910**.\n",
    "* Na zbiorze testowym accuracy obniżyło się z 0.93 do **0.89**, macro-F1 z 0.93 do **0.89**, AUC-ROC z 0.99 do **0.97**.\n",
    "\n",
    "**Szczegółowo po klasach:**\n",
    "\n",
    "* **Converted**: 31 prawidłowych z 38 (recall 0.82), precision 0.89 – kilka więcej pomyłek niż wcześniej (3 razy zaklasyfikowano jako Nondemented zamiast 2, 4 jako Demented bez zmian).\n",
    "* **Demented**: 34/38 poprawnych (recall 0.89, precision 0.87) – nieznaczny spadek precyzji.\n",
    "* **Nondemented**: 37/38 poprawnych (recall 0.97, precision 0.93) – wciąż bardzo wysoka separacja tej grupy.\n",
    "\n",
    "Selekcja do 4 kluczowych zmiennych (MR Delay, SES, MMSE, CDR) przyniosła czytelniejszy model przy nieznacznym obniżeniu wyników. Główne koszty to mniejsza czułość dla klasy „Converted” i nieco słabsza precyzja dla „Demented”, ale ogólna wydajność pozostaje na dobrym poziomie, a uproszczony zestaw cech ułatwia interpretację.\n"
   ]
  },
  {
   "cell_type": "markdown",
   "id": "80da4be6-a3e9-4f33-8399-fa4a783ebcaa",
   "metadata": {},
   "source": [
    "## Wyniki i porównanie z innymi badaniami"
   ]
  },
  {
   "cell_type": "markdown",
   "id": "283476f2-0a88-49e1-8fef-42582bc0976c",
   "metadata": {},
   "source": [
    "Zestawienie pokazuje, że nasz pełny model Random Forest osiągnął najwyższą AUC-ROC (0.99) i bardzo silne metryki (accuracy/F1≈0.93), zdecydowanie przewyższając tradycyjne SVM (RBF, γ=1e-4, C=100) z dokładnością 68.75% i precyzją 64.18% . Model stackingowy GBM+ANN (Rawat et al.) osiągnął accuracy 0.89, porównywalne z naszą redukcją cech (RF\\_sel accuracy 0.89), natomiast najwyższą dokładność (97.87%) zaobserwowano dla XGBoost (Vinayak et al.) . Nasze podejście Random Forest łączy więc znakomite wyniki predykcyjne z prostotą interpretacji i elastycznością w stosunku do innych metod.\n"
   ]
  },
  {
   "cell_type": "markdown",
   "id": "80885811-6904-40d1-9f6e-f4442a8b147e",
   "metadata": {},
   "source": [
    "| Study / Method                                                   | Accuracy | Precision | Recall | F1-score | AUC-ROC  |\n",
    "| ---------------------------------------------------------------- | -------- | --------- | ------ | -------- | -------- |\n",
    "| **Random Forest (all features)** – this study                    | 0.93     | 0.93      | 0.93   | 0.93     | 0.99     |\n",
    "| **Random Forest (selected features)** – this study               | 0.89     | 0.89      | 0.89   | 0.89     | 0.97     |\n",
    "| **SVM (RBF kernel, γ=1e-4, C=100)** – Battineni et al. (2019)    | 0.6875   | 0.6418    | –      | –        | –        |\n",
    "| **Stacking (GBM + ANN)** – Rawat et al. (2020)                   | 0.89     | –         | –      | –        | –        |\n",
    "| **XGBoost (best model)** – Shanmuga Skandh Vinayak et al. (2020) | 0.9787   | –         | –      | –        | –        |\n"
   ]
  },
  {
   "cell_type": "markdown",
   "id": "44902081-a08b-4df2-b18c-04e239f2ee7b",
   "metadata": {},
   "source": [
    "## Bibliografia"
   ]
  },
  {
   "cell_type": "markdown",
   "id": "13375d7c-348e-4edf-b876-763bc72535db",
   "metadata": {},
   "source": [
    "\\[1] G. Battineni, N. Chintalapudi, and F. Amenta, “Machine learning in medicine: Performance calculation of dementia prediction by support vector machines (SVM),” *Informatics in Medicine Unlocked*, vol. 16, p. 100200, 2019.&#x20;\n",
    "\n",
    "\\[2] R. M. Rawat, M. Mithil, M. Akram, and S. S. Pradeep, “Dementia Detection Using Machine Learning by Stacking Models,” in *Proc. Fifth International Conference on Communication and Electronics Systems (ICCES)*, Coimbatore, India, Jun. 2020, doi: 10.1109/ICCES48766.2020.9137852.&#x20;\n",
    "\n",
    "\\[3] S. S. Vinayak, A. Shahina, and A. N. Khan, “Dementia Prediction on OASIS Dataset using Supervised and Ensemble Learning Techniques,” *International Journal of Engineering and Advanced Technology (IJEAT)*, vol. 10, no. 1, pp. 244–253, Oct. 2020, doi: 10.35940/ijeat.A1827.1010120.&#x20;\n",
    "\n",
    "\\[4] G. Battineni, F. Amenta, and N. Chintalapudi, “Data for: MACHINE LEARNING IN MEDICINE: CLASSIFICATION AND PREDICTION OF DEMENTIA BY SUPPORT VECTOR MACHINES (SVM),” Mendeley Data, V1, 2019, doi:10.17632/tsy6rbc5d4.1.\n"
   ]
  }
 ],
 "metadata": {
  "kernelspec": {
   "display_name": "Python 3 (ipykernel)",
   "language": "python",
   "name": "python3"
  },
  "language_info": {
   "codemirror_mode": {
    "name": "ipython",
    "version": 3
   },
   "file_extension": ".py",
   "mimetype": "text/x-python",
   "name": "python",
   "nbconvert_exporter": "python",
   "pygments_lexer": "ipython3",
   "version": "3.10.15"
  }
 },
 "nbformat": 4,
 "nbformat_minor": 5
}
